{
 "cells": [
  {
   "cell_type": "code",
   "execution_count": 2,
   "metadata": {},
   "outputs": [
    {
     "name": "stderr",
     "output_type": "stream",
     "text": [
      "C:\\Users\\joaoc\\AppData\\Local\\Temp\\ipykernel_11124\\3523644958.py:15: DeprecationWarning: executable_path has been deprecated, please pass in a Service object\n",
      "  driver = webdriver.Chrome(chrome_options=opt, executable_path=r'C:\\Utility\\BrowserDrivers\\chromedriver.exe')\n",
      "C:\\Users\\joaoc\\AppData\\Local\\Temp\\ipykernel_11124\\3523644958.py:15: DeprecationWarning: use options instead of chrome_options\n",
      "  driver = webdriver.Chrome(chrome_options=opt, executable_path=r'C:\\Utility\\BrowserDrivers\\chromedriver.exe')\n"
     ]
    }
   ],
   "source": [
    "from selenium import webdriver\n",
    "from selenium.webdriver.chrome.options import Options\n",
    "import time \n",
    "import random\n",
    "\n",
    "opt = Options()\n",
    "opt.add_argument(\"--disable-infobars\")\n",
    "opt.add_argument(\"start-maximized\")\n",
    "opt.add_argument(\"--disable-extensions\")\n",
    "# Pass the argument 1 to allow and 2 to block\n",
    "opt.add_experimental_option(\"prefs\", { \\\n",
    "    \"profile.default_content_setting_values.media_stream_mic\": 1, \n",
    "    \"profile.default_content_setting_values.media_stream_camera\": 1,\n",
    "    \"profile.default_content_setting_values.geolocation\": 1, \n",
    "    \"profile.default_content_setting_values.notifications\": 1 \n",
    "  })\n",
    "\n",
    "def type_like_a_person(sentence, single_input_field):\n",
    "    \"\"\" Este código irá basicamente permitir que você simule a digitação como uma pessoa \"\"\"\n",
    "    print(\"going to start typing message into message share text area\")\n",
    "    for letter in sentence:\n",
    "        single_input_field.send_keys(letter)\n",
    "        time.sleep(random.randint(1, 5) / 30)\n",
    "            \n",
    "driver = webdriver.Chrome(chrome_options=opt, executable_path=r'C:\\Utility\\BrowserDrivers\\chromedriver.exe')\n",
    "\n",
    "navegador = driver \n",
    "# Passo 1:\n",
    "driver.get(\"https://www.omegle.com\")\n",
    "\n",
    "time.sleep(3)\n",
    "\n",
    "# Passo 3:\n",
    "navegador.find_element('xpath', '/html/body/div[3]/table/tbody/tr[2]/td[4]/img').click()\n",
    "\n",
    "time.sleep(3)\n",
    "navegador.find_element('xpath','/html/body/div[7]/div/p[1]/label/input').click()\n",
    "time.sleep(1)\n",
    "navegador.find_element('xpath', '/html/body/div[7]/div/p[2]/label/input').click()\n",
    "time.sleep(1)\n",
    "navegador.find_element('xpath', '/html/body/div[7]/div/p[3]/input').click()\n",
    "\n",
    "\n",
    "#navegador.find_element('xpath', '/html/body/div[6]/div/div/div[2]/table/tbody/tr/td[2]/div/textarea').click()\n",
    "\n",
    "\n",
    "import cv2 \n",
    "\n",
    "cap = cv2.VideoCapture('emotionrttv.mp4') \n",
    "width, height = cap.get(cv2.CAP_PROP_FRAME_WIDTH), cap.get(cv2.CAP_PROP_FRAME_HEIGHT) \n",
    "mirror_cap = cv2.VideoCapture('https://www.youtube.com/watch?v=jZMUdvP6F3I') \n",
    "while True: \n",
    "    ret1, frame1 = cap.read() \n",
    "    if not ret1: \n",
    "        break \n",
    "    frame1 = cv2.flip(frame1, 1) \n",
    "    ret2, frame2 = mirror_cap.read() \n",
    "    if not ret2: \n",
    "        break \n",
    "    frame2 = cv2.resize(frame2, (int(width), int(height))) \n",
    "    result = cv2.addWeighted(frame1, 0.7, frame2, 0.3, 0) \n",
    "    cv2.imshow('Result', result) \n",
    "    if cv2.waitKey(1) & 0xFF == ord('q'): \n",
    "        break \n",
    "cap.release() \n",
    "mirror_cap.release() \n",
    "cv2.destroyAllWindows() "
   ]
  },
  {
   "cell_type": "code",
   "execution_count": null,
   "metadata": {},
   "outputs": [],
   "source": [
    "from pytube import YouTube\n",
    "url = \"https://www.youtube.com/watch?v=jZMUdvP6F3I\"\n",
    "yt = YouTube(url) \n",
    " \n",
    "video = yt.streams.first() #Pega o primeiro stream disponível\n",
    "video.download('caminho/para/guardar/o/video')\n",
    "video.stream_to_camera()\n"
   ]
  },
  {
   "cell_type": "code",
   "execution_count": 3,
   "metadata": {},
   "outputs": [],
   "source": [
    "\n"
   ]
  }
 ],
 "metadata": {
  "kernelspec": {
   "display_name": "env",
   "language": "python",
   "name": "python3"
  },
  "language_info": {
   "codemirror_mode": {
    "name": "ipython",
    "version": 3
   },
   "file_extension": ".py",
   "mimetype": "text/x-python",
   "name": "python",
   "nbconvert_exporter": "python",
   "pygments_lexer": "ipython3",
   "version": "3.9.12"
  },
  "orig_nbformat": 4,
  "vscode": {
   "interpreter": {
    "hash": "ac63340dccf4f14748a76a819b7d80dd786037a9526a0c7d8d07cca0d14f922d"
   }
  }
 },
 "nbformat": 4,
 "nbformat_minor": 2
}
